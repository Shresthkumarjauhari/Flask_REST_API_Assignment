{
  "nbformat": 4,
  "nbformat_minor": 5,
  "metadata": {
    "colab": {
      "provenance": []
    }
  },
  "cells": [
    {
      "id": "68fd2ae4",
      "cell_type": "markdown",
      "source": [
        "# 📘 RESTful API & Flask – Assignment\n",
        "\n",
        "---\n",
        "\n",
        "## 🔹 Part 1: Theory\n"
      ],
      "metadata": {
        "id": "68fd2ae4"
      }
    },
    {
      "id": "6152a6fa",
      "cell_type": "markdown",
      "source": [
        "**Q1. What is a RESTful API?**\n",
        "\n",
        "A RESTful API (Representational State Transfer API) is a way of designing web services that follows REST principles.\n",
        "- Uses standard HTTP methods like **GET, POST, PUT, PATCH, DELETE**.\n",
        "- Treats data as **resources** identified by URLs (e.g., `/users/7`).\n",
        "- **Stateless**: each request contains all information needed; the server doesn’t remember previous requests.\n",
        "- Benefits: simple, scalable, and widely supported across platforms."
      ],
      "metadata": {
        "id": "6152a6fa"
      }
    },
    {
      "id": "5453037e",
      "cell_type": "markdown",
      "source": [
        "**Q2. Explain the concept of API specification.**\n",
        "\n",
        "An API specification is like an instruction manual or **contract** that explains how to use an API.\n",
        "It includes:\n",
        "- **Endpoints** (URLs) and their purposes\n",
        "- **HTTP methods** allowed (GET/POST/PUT/DELETE…)\n",
        "- **Parameters** and **request/response** formats (usually JSON)\n",
        "- **Authentication** rules and **error codes** with examples\n",
        "Popular formats/tools: **OpenAPI/Swagger**, Postman Collections. Specs help teams build and use APIs consistently."
      ],
      "metadata": {
        "id": "5453037e"
      }
    },
    {
      "id": "e26eaaf2",
      "cell_type": "markdown",
      "source": [
        "**Q3. What is Flask, and why is it popular for building APIs?**\n",
        "\n",
        "**Flask** is a lightweight Python web framework.\n",
        "Why it’s popular:\n",
        "- **Minimal & flexible** – start small, add only what you need\n",
        "- **Easy to learn** – great for beginners\n",
        "- **Rich ecosystem** – many extensions (Flask‑SQLAlchemy, Flask‑RESTful, Flask‑JWT‑Extended, etc.)\n",
        "- Perfect for **quick prototypes** and **small/medium REST APIs**"
      ],
      "metadata": {
        "id": "e26eaaf2"
      }
    },
    {
      "id": "007b18b8",
      "cell_type": "markdown",
      "source": [
        "**Q4. What is routing in Flask?**\n",
        "\n",
        "Routing is the process of **mapping a URL path to a Python function**.\n",
        "Example: visiting `/hello` triggers a function that returns a page or JSON.\n",
        "In Flask this is done using the `@app.route()` decorator."
      ],
      "metadata": {
        "id": "007b18b8"
      }
    },
    {
      "id": "de5f4d69",
      "cell_type": "markdown",
      "source": [
        "**Q5. How do you create a simple Flask application?**\n",
        "\n",
        "Basic steps:\n",
        "1) `from flask import Flask`  \n",
        "2) Create an app: `app = Flask(__name__)`  \n",
        "3) Register routes with `@app.route()`  \n",
        "4) Run using `app.run(debug=True)` (when running as a script)"
      ],
      "metadata": {
        "id": "de5f4d69"
      }
    },
    {
      "id": "1bff9ea5",
      "cell_type": "markdown",
      "source": [
        "**Q6. What are HTTP methods used in RESTful APIs?**\n",
        "\n",
        "- **GET** → read data\n",
        "- **POST** → create new data\n",
        "- **PUT** → replace/update entire resource\n",
        "- **PATCH** → partial update\n",
        "- **DELETE** → remove data\n",
        "(Also: **HEAD**, **OPTIONS** are used for metadata and capability checks.)"
      ],
      "metadata": {
        "id": "1bff9ea5"
      }
    },
    {
      "id": "4ebd138d",
      "cell_type": "markdown",
      "source": [
        "**Q7. What is the purpose of the @app.route() decorator in Flask?**\n",
        "\n",
        "`@app.route()` **binds a URL** (like `/users`) to a **function**.\n",
        "When a user visits that URL, Flask runs the function and returns its response."
      ],
      "metadata": {
        "id": "4ebd138d"
      }
    },
    {
      "id": "2ea8f6e9",
      "cell_type": "markdown",
      "source": [
        "**Q8. What is the difference between GET and POST HTTP methods?**\n",
        "\n",
        "- **GET**: retrieves data, parameters appear in the URL query string (e.g., `?page=2`). Not suitable for sensitive data. Cacheable.\n",
        "- **POST**: sends data in the **request body**. Used to create or submit forms. Better for sensitive data. Not cached by default."
      ],
      "metadata": {
        "id": "2ea8f6e9"
      }
    },
    {
      "id": "dd61579f",
      "cell_type": "markdown",
      "source": [
        "**Q9. How do you handle errors in Flask APIs?**\n",
        "\n",
        "Use custom error handlers and return **JSON responses** with proper **HTTP status codes**:\n",
        "- `@app.errorhandler(404)` → resource not found\n",
        "- `@app.errorhandler(400)` → bad request (validation errors)\n",
        "- `@app.errorhandler(500)` → server error\n",
        "Also validate inputs and handle exceptions with `try/except`."
      ],
      "metadata": {
        "id": "dd61579f"
      }
    },
    {
      "id": "2a041a60",
      "cell_type": "markdown",
      "source": [
        "**Q10. How do you connect Flask to a SQL database?**\n",
        "\n",
        "- Install and configure **Flask‑SQLAlchemy**.\n",
        "- Set `SQLALCHEMY_DATABASE_URI` (e.g., `sqlite:///app.db` or a PostgreSQL URL).\n",
        "- Create models as Python classes, then create tables and use sessions to read/write data."
      ],
      "metadata": {
        "id": "2a041a60"
      }
    },
    {
      "id": "b42563e5",
      "cell_type": "markdown",
      "source": [
        "**Q11. What is the role of Flask‑SQLAlchemy?**\n",
        "\n",
        "It integrates SQLAlchemy (an ORM) with Flask, letting you work with the database using **Python classes** instead of writing raw SQL. It manages connections, sessions, and migrations (with Flask‑Migrate)."
      ],
      "metadata": {
        "id": "b42563e5"
      }
    },
    {
      "id": "74c286dc",
      "cell_type": "markdown",
      "source": [
        "**Q12. What are Flask blueprints, and how are they useful?**\n",
        "\n",
        "**Blueprints** help break a large app into **modular parts** (e.g., `auth`, `users`, `admin`).\n",
        "Benefits: cleaner structure, reusable components, easier teamwork and testing. You register blueprints on the main app with optional URL prefixes like `/api`."
      ],
      "metadata": {
        "id": "74c286dc"
      }
    },
    {
      "id": "8de8ed1f",
      "cell_type": "markdown",
      "source": [
        "**Q13. What is the purpose of Flask’s request object?**\n",
        "\n",
        "`flask.request` gives access to everything the client sent:\n",
        "- **Query params**: `request.args`\n",
        "- **Form data**: `request.form`\n",
        "- **JSON body**: `request.get_json()` or `request.json`\n",
        "- **Headers/Cookies/Files**: `request.headers`, `request.cookies`, `request.files`"
      ],
      "metadata": {
        "id": "8de8ed1f"
      }
    },
    {
      "id": "764a8867",
      "cell_type": "markdown",
      "source": [
        "**Q14. How do you create a RESTful API endpoint using Flask?**\n",
        "\n",
        "Define a route, specify allowed methods, read inputs from `request`, and return JSON with a status code using `jsonify(...), 200`."
      ],
      "metadata": {
        "id": "764a8867"
      }
    },
    {
      "id": "05e3535e",
      "cell_type": "markdown",
      "source": [
        "**Q15. What is the purpose of Flask’s jsonify() function?**\n",
        "\n",
        "`jsonify()` converts Python dicts/lists to a **proper JSON HTTP response** with the right `Content‑Type: application/json` header."
      ],
      "metadata": {
        "id": "05e3535e"
      }
    },
    {
      "id": "346b5405",
      "cell_type": "markdown",
      "source": [
        "**Q16. Explain Flask’s url_for() function.**\n",
        "\n",
        "`url_for('function_name', **params)` **builds URLs dynamically** from route names. It avoids hardcoding paths and updates automatically if routes change. Useful in templates and redirects."
      ],
      "metadata": {
        "id": "346b5405"
      }
    },
    {
      "id": "9b9fada5",
      "cell_type": "markdown",
      "source": [
        "**Q17. How does Flask handle static files (CSS, JavaScript, etc.)?**\n",
        "\n",
        "Files placed in the **`static/`** folder are served automatically at `/static/<filename>`. In templates, use `{{ url_for('static', filename='style.css') }}` to link CSS/JS/images."
      ],
      "metadata": {
        "id": "9b9fada5"
      }
    },
    {
      "id": "ca2533cb",
      "cell_type": "markdown",
      "source": [
        "**Q18. What is an API specification, and how does it help in building a Flask API?**\n",
        "\n",
        "It’s the **formal description** of your API (endpoints, parameters, schemas, errors, auth). It helps:\n",
        "- Backend devs implement consistent behavior\n",
        "- Frontend/mobile devs integrate correctly\n",
        "- Testers and stakeholders understand expectations\n",
        "- Auto‑generate docs and client SDKs (with OpenAPI/Swagger)"
      ],
      "metadata": {
        "id": "ca2533cb"
      }
    },
    {
      "id": "ddb68319",
      "cell_type": "markdown",
      "source": [
        "**Q19. What are HTTP status codes, and why are they important in a Flask API?**\n",
        "\n",
        "They are **numeric results** returned with responses:\n",
        "- **2xx** success (200 OK, 201 Created)\n",
        "- **4xx** client errors (400 Bad Request, 401 Unauthorized, 404 Not Found)\n",
        "- **5xx** server errors (500 Internal Server Error)\n",
        "They help clients understand whether a request succeeded and how to react to errors."
      ],
      "metadata": {
        "id": "ddb68319"
      }
    },
    {
      "id": "1d1b2436",
      "cell_type": "markdown",
      "source": [
        "**Q20. How do you handle POST requests in Flask?**\n",
        "\n",
        "Allow the `POST` method in `@app.route(..., methods=['POST'])`. Read data with `request.form` (HTML form) or `request.get_json()` (JSON API). Validate inputs, then return `jsonify(...)` with a proper status code (often `201 Created`)."
      ],
      "metadata": {
        "id": "1d1b2436"
      }
    },
    {
      "id": "ccd0711a",
      "cell_type": "markdown",
      "source": [
        "**Q21. How would you secure a Flask API?**\n",
        "\n",
        "- **HTTPS** everywhere\n",
        "- **Authentication/Authorization** (JWT, OAuth 2.0, API keys)\n",
        "- **Input validation & sanitization** (avoid injection attacks)\n",
        "- **Rate limiting** (e.g., Flask‑Limiter)\n",
        "- **CORS** configuration (Flask‑CORS) if needed\n",
        "- **Secrets management** & environment variables\n",
        "- **Error handling** that doesn’t leak internals"
      ],
      "metadata": {
        "id": "ccd0711a"
      }
    },
    {
      "id": "c954c358",
      "cell_type": "markdown",
      "source": [
        "**Q22. What is the significance of the Flask‑RESTful extension?**\n",
        "\n",
        "Flask‑RESTful provides a **Resource** class and helpful utilities to build REST endpoints cleanly with methods like `.get()`, `.post()`, `.put()`, `.delete()`, plus request parsing and error handling helpers."
      ],
      "metadata": {
        "id": "c954c358"
      }
    },
    {
      "id": "ca413a4f",
      "cell_type": "markdown",
      "source": [
        "**Q23. What is the role of Flask’s session object?**\n",
        "\n",
        "`flask.session` stores **per‑user data** (e.g., login info) in a signed cookie between requests. You must set `app.secret_key`. For server‑side sessions, use extensions like Flask‑Session."
      ],
      "metadata": {
        "id": "ca413a4f"
      }
    },
    {
      "id": "c1bd1a5f",
      "cell_type": "markdown",
      "source": [
        "---\n",
        "\n",
        "## 🔹 Part 2: Practical\n",
        "\n",
        "📝 Note: These are **assignment‑ready code listings** (e.g., `app.py`, `models.py`, etc.).\n",
        "They are shown here for demonstration and may not be executed directly inside the notebook.\n"
      ],
      "metadata": {
        "id": "c1bd1a5f"
      }
    },
    {
      "id": "54d32977",
      "cell_type": "markdown",
      "source": [
        "**Q1. How do you create a basic Flask application?**\n",
        "\n",
        "```python\n",
        "# app.py\n",
        "from flask import Flask\n",
        "\n",
        "app = Flask(__name__)\n",
        "\n",
        "@app.route('/')\n",
        "def home():\n",
        "    return \"Hello, Flask!\"\n",
        "\n",
        "if __name__ == '__main__':\n",
        "    app.run(debug=True)\n",
        "```"
      ],
      "metadata": {
        "id": "54d32977"
      }
    },
    {
      "id": "9b91634e",
      "cell_type": "markdown",
      "source": [
        "**Q2. How do you serve static files like images or CSS in Flask?**\n",
        "\n",
        "```python\n",
        "# Folder structure:\n",
        "# - app.py\n",
        "# - static/\n",
        "#     - style.css\n",
        "#     - logo.png\n",
        "\n",
        "from flask import Flask\n",
        "\n",
        "app = Flask(__name__)\n",
        "\n",
        "@app.route('/')\n",
        "def index():\n",
        "    # In templates you'd typically use url_for('static', filename=...)\n",
        "    # For a quick demo string:\n",
        "    return '<link rel=\"stylesheet\" href=\"/static/style.css\"><h1>Welcome</h1><img src=\"/static/logo.png\" />'\n",
        "\n",
        "if __name__ == '__main__':\n",
        "    app.run(debug=True)\n",
        "```"
      ],
      "metadata": {
        "id": "9b91634e"
      }
    },
    {
      "id": "dda6a015",
      "cell_type": "markdown",
      "source": [
        "**Q3. How do you define different routes with different HTTP methods in Flask?**\n",
        "\n",
        "```python\n",
        "# app.py\n",
        "from flask import Flask, request\n",
        "\n",
        "app = Flask(__name__)\n",
        "\n",
        "@app.route('/item', methods=['GET', 'POST'])\n",
        "def item():\n",
        "    if request.method == 'GET':\n",
        "        return \"GET: return items/list\"\n",
        "    if request.method == 'POST':\n",
        "        # read form/json and create item\n",
        "        return \"POST: item created\", 201\n",
        "\n",
        "if __name__ == '__main__':\n",
        "    app.run(debug=True)\n",
        "```"
      ],
      "metadata": {
        "id": "dda6a015"
      }
    },
    {
      "id": "d28c58f9",
      "cell_type": "markdown",
      "source": [
        "**Q4. How do you render HTML templates in Flask?**\n",
        "\n",
        "```python\n",
        "# Folder structure:\n",
        "# - app.py\n",
        "# - templates/\n",
        "#     - index.html\n",
        "\n",
        "# index.html (inside templates/)\n",
        "# --------------------------------\n",
        "# <!doctype html>\n",
        "# <html>\n",
        "#   <head><title>Home</title></head>\n",
        "#   <body><h1>Hello, {{ name }}!</h1></body>\n",
        "# </html>\n",
        "\n",
        "from flask import Flask, render_template\n",
        "\n",
        "app = Flask(__name__)\n",
        "\n",
        "@app.route('/hello/<name>')\n",
        "def hello(name):\n",
        "    return render_template('index.html', name=name)\n",
        "\n",
        "if __name__ == '__main__':\n",
        "    app.run(debug=True)\n",
        "```"
      ],
      "metadata": {
        "id": "d28c58f9"
      }
    },
    {
      "id": "86c77c62",
      "cell_type": "markdown",
      "source": [
        "**Q5. How can you generate URLs for routes in Flask using url_for?**\n",
        "\n",
        "```python\n",
        "# app.py\n",
        "from flask import Flask, url_for\n",
        "\n",
        "app = Flask(__name__)\n",
        "\n",
        "@app.route('/profile/<username>')\n",
        "def profile(username):\n",
        "    return f\"Profile of {username}\"\n",
        "\n",
        "@app.route('/link')\n",
        "def link():\n",
        "    # Build the URL of the 'profile' route for 'shreya'\n",
        "    return url_for('profile', username='shreya')  # -> \"/profile/shreya\"\n",
        "\n",
        "if __name__ == '__main__':\n",
        "    app.run(debug=True)\n",
        "```"
      ],
      "metadata": {
        "id": "86c77c62"
      }
    },
    {
      "id": "41196440",
      "cell_type": "markdown",
      "source": [
        "**Q6. How do you handle forms in Flask?**\n",
        "\n",
        "```python\n",
        "# app.py\n",
        "from flask import Flask, request, render_template_string\n",
        "\n",
        "app = Flask(__name__)\n",
        "\n",
        "form_html = '''\n",
        "<form action=\"/submit\" method=\"post\">\n",
        "  <input name=\"name\" placeholder=\"Your name\">\n",
        "  <button type=\"submit\">Send</button>\n",
        "</form>\n",
        "'''\n",
        "\n",
        "@app.route('/')\n",
        "def form():\n",
        "    return render_template_string(form_html)\n",
        "\n",
        "@app.route('/submit', methods=['POST'])\n",
        "def submit():\n",
        "    name = request.form.get('name', 'Guest')\n",
        "    return f\"Hello, {name}!\"\n",
        "    \n",
        "if __name__ == '__main__':\n",
        "    app.run(debug=True)\n",
        "```"
      ],
      "metadata": {
        "id": "41196440"
      }
    },
    {
      "id": "984ccd8d",
      "cell_type": "markdown",
      "source": [
        "**Q7. How can you validate form data in Flask?**\n",
        "\n",
        "```python\n",
        "# app.py (basic validation without WTForms)\n",
        "from flask import Flask, request, jsonify\n",
        "\n",
        "app = Flask(__name__)\n",
        "\n",
        "@app.route('/register', methods=['POST'])\n",
        "def register():\n",
        "    email = request.form.get('email', '')\n",
        "    if '@' not in email:\n",
        "        return jsonify(error=\"Invalid email\"), 400\n",
        "    return jsonify(message=\"Registered\"), 201\n",
        "\n",
        "if __name__ == '__main__':\n",
        "    app.run(debug=True)\n",
        "```"
      ],
      "metadata": {
        "id": "984ccd8d"
      }
    },
    {
      "id": "77b4232a",
      "cell_type": "markdown",
      "source": [
        "**Q8. How do you manage sessions in Flask?**\n",
        "\n",
        "```python\n",
        "# app.py\n",
        "from flask import Flask, session\n",
        "\n",
        "app = Flask(__name__)\n",
        "app.secret_key = 'change-this-secret'  # required for sessions\n",
        "\n",
        "@app.route('/login/<user>')\n",
        "def login(user):\n",
        "    session['user'] = user\n",
        "    return f\"{user} logged in\"\n",
        "\n",
        "@app.route('/whoami')\n",
        "def whoami():\n",
        "    return session.get('user', 'Guest')\n",
        "\n",
        "@app.route('/logout')\n",
        "def logout():\n",
        "    session.clear()\n",
        "    return \"Logged out\"\n",
        "\n",
        "if __name__ == '__main__':\n",
        "    app.run(debug=True)\n",
        "```"
      ],
      "metadata": {
        "id": "77b4232a"
      }
    },
    {
      "id": "095572bf",
      "cell_type": "markdown",
      "source": [
        "**Q9. How do you redirect to a different route in Flask?**\n",
        "\n",
        "```python\n",
        "# app.py\n",
        "from flask import Flask, redirect, url_for\n",
        "\n",
        "app = Flask(__name__)\n",
        "\n",
        "@app.route('/')\n",
        "def home():\n",
        "    return \"Home Page\"\n",
        "\n",
        "@app.route('/go-home')\n",
        "def go_home():\n",
        "    return redirect(url_for('home'))\n",
        "\n",
        "if __name__ == '__main__':\n",
        "    app.run(debug=True)\n",
        "```"
      ],
      "metadata": {
        "id": "095572bf"
      }
    },
    {
      "id": "fd5741f1",
      "cell_type": "markdown",
      "source": [
        "**Q10. How do you handle errors in Flask (e.g., 404)?**\n",
        "\n",
        "```python\n",
        "# app.py\n",
        "from flask import Flask, jsonify\n",
        "\n",
        "app = Flask(__name__)\n",
        "\n",
        "@app.errorhandler(404)\n",
        "def not_found(e):\n",
        "    return jsonify(error=\"Resource not found\"), 404\n",
        "\n",
        "@app.errorhandler(500)\n",
        "def server_error(e):\n",
        "    return jsonify(error=\"Internal server error\"), 500\n",
        "\n",
        "if __name__ == '__main__':\n",
        "    app.run(debug=True)\n",
        "```"
      ],
      "metadata": {
        "id": "fd5741f1"
      }
    },
    {
      "id": "e4805c74",
      "cell_type": "markdown",
      "source": [
        "**Q11. How do you structure a Flask app using Blueprints?**\n",
        "\n",
        "```python\n",
        "# project/\n",
        "#   app.py\n",
        "#   blueprints/\n",
        "#       __init__.py\n",
        "#       users.py\n",
        "\n",
        "# blueprints/users.py\n",
        "from flask import Blueprint\n",
        "users_bp = Blueprint('users', __name__, url_prefix='/users')\n",
        "\n",
        "@users_bp.route('/profile')\n",
        "def profile():\n",
        "    return \"User profile\"\n",
        "\n",
        "# app.py\n",
        "from flask import Flask\n",
        "from blueprints.users import users_bp\n",
        "\n",
        "app = Flask(__name__)\n",
        "app.register_blueprint(users_bp)\n",
        "\n",
        "if __name__ == '__main__':\n",
        "    app.run(debug=True)\n",
        "```"
      ],
      "metadata": {
        "id": "e4805c74"
      }
    },
    {
      "id": "f582eead",
      "cell_type": "markdown",
      "source": [
        "**Q12. How do you define a custom Jinja filter in Flask?**\n",
        "\n",
        "```python\n",
        "# app.py\n",
        "from flask import Flask, render_template_string\n",
        "\n",
        "app = Flask(__name__)\n",
        "\n",
        "@app.template_filter('reverse')\n",
        "def reverse_filter(s):\n",
        "    return s[::-1]\n",
        "\n",
        "@app.route('/')\n",
        "def demo():\n",
        "    return render_template_string(\"{{ 'Flask' | reverse }}\")  # -> kslaF\n",
        "\n",
        "if __name__ == '__main__':\n",
        "    app.run(debug=True)\n",
        "```"
      ],
      "metadata": {
        "id": "f582eead"
      }
    },
    {
      "id": "be16bc01",
      "cell_type": "markdown",
      "source": [
        "**Q13. How can you redirect with query parameters in Flask?**\n",
        "\n",
        "```python\n",
        "# app.py\n",
        "from flask import Flask, redirect, url_for\n",
        "\n",
        "app = Flask(__name__)\n",
        "\n",
        "@app.route('/target')\n",
        "def target():\n",
        "    # read request.args.get('msg')\n",
        "    return \"Target endpoint\"\n",
        "\n",
        "@app.route('/jump')\n",
        "def jump():\n",
        "    return redirect(url_for('target', msg='welcome'))\n",
        "\n",
        "if __name__ == '__main__':\n",
        "    app.run(debug=True)\n",
        "```"
      ],
      "metadata": {
        "id": "be16bc01"
      }
    },
    {
      "id": "551482ba",
      "cell_type": "markdown",
      "source": [
        "**Q14. How do you return JSON responses in Flask?**\n",
        "\n",
        "```python\n",
        "# app.py\n",
        "from flask import Flask, jsonify\n",
        "\n",
        "app = Flask(__name__)\n",
        "\n",
        "@app.route('/api/info')\n",
        "def info():\n",
        "    data = {\"framework\": \"Flask\", \"type\": \"API\"}\n",
        "    return jsonify(data), 200  # (body, status)\n",
        "\n",
        "if __name__ == '__main__':\n",
        "    app.run(debug=True)\n",
        "```"
      ],
      "metadata": {
        "id": "551482ba"
      }
    },
    {
      "id": "ba3e96ae",
      "cell_type": "markdown",
      "source": [
        "**Q15. How do you capture URL parameters in Flask?**\n",
        "\n",
        "```python\n",
        "# app.py\n",
        "from flask import Flask\n",
        "\n",
        "app = Flask(__name__)\n",
        "\n",
        "@app.route('/user/<int:user_id>')\n",
        "def get_user(user_id):\n",
        "    return f\"User ID is {user_id}\"\n",
        "\n",
        "if __name__ == '__main__':\n",
        "    app.run(debug=True)\n",
        "```"
      ],
      "metadata": {
        "id": "ba3e96ae"
      }
    }
  ]
}